{
  "nbformat": 4,
  "nbformat_minor": 0,
  "metadata": {
    "colab": {
      "provenance": [],
      "authorship_tag": "ABX9TyP+OBjFsJqRRnet8F3iSChY",
      "include_colab_link": true
    },
    "kernelspec": {
      "name": "python3",
      "display_name": "Python 3"
    },
    "language_info": {
      "name": "python"
    }
  },
  "cells": [
    {
      "cell_type": "markdown",
      "metadata": {
        "id": "view-in-github",
        "colab_type": "text"
      },
      "source": [
        "<a href=\"https://colab.research.google.com/github/PhuongAnh2212/NameChange/blob/main/Adapt_Logo_%2B_Product_Code.ipynb\" target=\"_parent\"><img src=\"https://colab.research.google.com/assets/colab-badge.svg\" alt=\"Open In Colab\"/></a>"
      ]
    },
    {
      "cell_type": "code",
      "execution_count": 1,
      "metadata": {
        "id": "_n1JCYJB2ILT"
      },
      "outputs": [],
      "source": [
        "from google.colab import drive\n",
        "from PIL import Image, ImageDraw, ImageFont"
      ]
    },
    {
      "cell_type": "code",
      "source": [
        "# Mount Google Drive\n",
        "drive.mount('/content/drive')"
      ],
      "metadata": {
        "colab": {
          "base_uri": "https://localhost:8080/"
        },
        "id": "WwjS_J3e2P-V",
        "outputId": "80863a51-4e3b-47fb-80e2-e747e8adbed2"
      },
      "execution_count": 2,
      "outputs": [
        {
          "output_type": "stream",
          "name": "stdout",
          "text": [
            "Mounted at /content/drive\n"
          ]
        }
      ]
    },
    {
      "cell_type": "code",
      "source": [
        "logo1_path = '/content/logobot.png'  # Path to the first logo in Google Drive\n",
        "logo2_path = '/content/logotop.png'"
      ],
      "metadata": {
        "id": "LOBSrT5l2qau"
      },
      "execution_count": 3,
      "outputs": []
    },
    {
      "cell_type": "code",
      "source": [
        "def process_image(image_path, logo1_path, logo2_path, rectangle_image_path, product_line, logo1_position, logo2_position, rect_position):\n",
        "    # Open the main image\n",
        "    img = Image.open(image_path)\n",
        "\n",
        "    # Resize image to fit into a 1800x1800 canvas while maintaining aspect ratio\n",
        "    img.thumbnail((1800, 1800), Image.ANTIALIAS)\n",
        "\n",
        "    # Create a white canvas of size 1800x1800\n",
        "    canvas = Image.new('RGB', (1800, 1800), 'white')\n",
        "\n",
        "    # Calculate the position to center the image on the canvas\n",
        "    img_x = (canvas.width - img.width) // 2\n",
        "    img_y = (canvas.height - img.height) // 2\n",
        "\n",
        "    # Paste the image onto the center of the canvas\n",
        "    canvas.paste(img, (img_x, img_y))\n",
        "\n",
        "    # Open and resize logos\n",
        "    logo1 = Image.open(logo1_path).convert(\"RGBA\")\n",
        "    logo2 = Image.open(logo2_path).convert(\"RGBA\")\n",
        "\n",
        "    # Resize logos to the desired size (width, height)\n",
        "    logo1_size = (100, 100)  # Adjust to suit the size in your example\n",
        "    logo2_size = (400, 200)   # Adjust to suit the size in your example\n",
        "    logo1 = logo1.resize(logo1_size)\n",
        "    logo2 = logo2.resize(logo2_size)\n",
        "\n",
        "    logo1_with_opacity = Image.new(\"RGBA\", logo1.size)\n",
        "    for x in range(logo1.width):\n",
        "        for y in range(logo1.height):\n",
        "            r, g, b, a = logo1.getpixel((x, y))\n",
        "            logo1_with_opacity.putpixel((x, y), (r, g, b, int(a * 0.6)))\n",
        "    # Position the first logo at the top left corner (similar to your example)\n",
        "    logo2_position = (25, 25)  # Top-left corner with padding\n",
        "\n",
        "    # Position the second logo at the bottom right corner (similar to your example)\n",
        "    logo1_position = (canvas.width - logo1_size[0] - 40, canvas.height - logo1_size[1] - 40)  # Right-bottom corner\n",
        "\n",
        "    # Paste the logos at the specified positions\n",
        "    canvas.paste(logo1_with_opacity, logo1_position, logo1_with_opacity)\n",
        "    canvas.paste(logo2, logo2_position, logo2)\n",
        "\n",
        "    rect_img = Image.open(rectangle_image_path).convert(\"RGBA\")\n",
        "\n",
        "    rect_img = rect_img.resize((300, 134))  # Adjust size to your preference (width, height)\n",
        "\n",
        "    # Paste the rectangle image at the specified position\n",
        "    rect_x, rect_y = rect_position\n",
        "    canvas.paste(rect_img, (rect_x, rect_y), rect_img)\n",
        "\n",
        "    # Add the product line text on the rectangle image\n",
        "    draw = ImageDraw.Draw(canvas)\n",
        "\n",
        "    try:\n",
        "        font = ImageFont.truetype(\"/content/gilroy.otf\", 56)  # Use an appropriate font file and size\n",
        "    except IOError:\n",
        "        print(\"Font not found, using default font.\")\n",
        "        font = ImageFont.load_default()  # If the specified font is not found, use the default PIL font\n",
        "\n",
        "    text_width, text_height = draw.textsize(product_line, font=font)\n",
        "\n",
        "    # Calculate text position to center it within the rectangle\n",
        "    text_x = rect_x + (rect_img.width - text_width) // 2\n",
        "    text_y = rect_y + (rect_img.height - text_height) // 2\n",
        "\n",
        "    # Draw text on the canvas\n",
        "    draw.text((text_x, text_y), product_line, font=font, fill=\"black\")\n",
        "    filename = f\"/content/drive/MyDrive/1609-1/{product_line}-1.jpg\"\n",
        "\n",
        "    # Save or show the final image\n",
        "    canvas.show()\n",
        "    # Optionally save it\n",
        "    canvas.save(filename)\n",
        "\n",
        "# Example usage:\n",
        "logo1_path = '/content/logobot.png'  # Path to the first logo in Google Drive\n",
        "logo2_path = '/content/logotop.png'  # Path to the second logo in Google Drive\n",
        "rectangle_image_path = '/content/back.png'  # Path to the rectangle image\n",
        "product_line = \"1PS068AZ\"\n",
        "image_path = '/content/drive/MyDrive/1609/DSC02374.jpg'  # Input image from Google Drive\n",
        "\n",
        "# Customize size for logos (width, height)\n",
        "rect_position = (100, 1600)                           # Position for the rectangle imag\n",
        "process_image(image_path, logo1_path, logo2_path, rectangle_image_path, product_line, None, None, rect_position)\n"
      ],
      "metadata": {
        "colab": {
          "base_uri": "https://localhost:8080/"
        },
        "id": "UG0Rl6ea2Iz3",
        "outputId": "242a515c-4142-42b1-c4b6-29888be40b6f"
      },
      "execution_count": 104,
      "outputs": [
        {
          "output_type": "stream",
          "name": "stderr",
          "text": [
            "<ipython-input-104-f2089ec196ce>:6: DeprecationWarning: ANTIALIAS is deprecated and will be removed in Pillow 10 (2023-07-01). Use LANCZOS or Resampling.LANCZOS instead.\n",
            "  img.thumbnail((1800, 1800), Image.ANTIALIAS)\n",
            "<ipython-input-104-f2089ec196ce>:60: DeprecationWarning: textsize is deprecated and will be removed in Pillow 10 (2023-07-01). Use textbbox or textlength instead.\n",
            "  text_width, text_height = draw.textsize(product_line, font=font)\n"
          ]
        }
      ]
    }
  ]
}