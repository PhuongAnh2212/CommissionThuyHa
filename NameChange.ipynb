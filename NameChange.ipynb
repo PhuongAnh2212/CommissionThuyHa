{
  "nbformat": 4,
  "nbformat_minor": 0,
  "metadata": {
    "colab": {
      "provenance": [],
      "authorship_tag": "ABX9TyOI0UOvtlt4nlYwj3EErVhP",
      "include_colab_link": true
    },
    "kernelspec": {
      "name": "python3",
      "display_name": "Python 3"
    },
    "language_info": {
      "name": "python"
    }
  },
  "cells": [
    {
      "cell_type": "markdown",
      "metadata": {
        "id": "view-in-github",
        "colab_type": "text"
      },
      "source": [
        "<a href=\"https://colab.research.google.com/github/PhuongAnh2212/NameChange/blob/image/NameChange.ipynb\" target=\"_parent\"><img src=\"https://colab.research.google.com/assets/colab-badge.svg\" alt=\"Open In Colab\"/></a>"
      ]
    },
    {
      "cell_type": "code",
      "execution_count": null,
      "metadata": {
        "id": "ofI2LhF86pDL"
      },
      "outputs": [],
      "source": [
        "from google.colab import drive\n",
        "import os"
      ]
    },
    {
      "cell_type": "code",
      "source": [
        "drive.mount('/content/drive')"
      ],
      "metadata": {
        "colab": {
          "base_uri": "https://localhost:8080/"
        },
        "id": "i_ndG47XEMx4",
        "outputId": "b4a00e2f-a5ae-4994-b7a0-ff4a31a991c7"
      },
      "execution_count": null,
      "outputs": [
        {
          "output_type": "stream",
          "name": "stdout",
          "text": [
            "Mounted at /content/drive\n"
          ]
        }
      ]
    },
    {
      "cell_type": "code",
      "source": [
        "import pandas as pd"
      ],
      "metadata": {
        "id": "aJCnyl4hGEks"
      },
      "execution_count": null,
      "outputs": []
    },
    {
      "cell_type": "code",
      "source": [
        "search_folder = '/content/drive/MyDrive/ARISTINO/2008'  # Update this path if needed"
      ],
      "metadata": {
        "id": "MOj7e8QFHv79"
      },
      "execution_count": null,
      "outputs": []
    },
    {
      "cell_type": "code",
      "source": [
        "from PIL import Image, ImageDraw, ImageFont\n",
        "from google.colab import files\n",
        "import io"
      ],
      "metadata": {
        "id": "ZjVZCND1MLJf"
      },
      "execution_count": null,
      "outputs": []
    },
    {
      "cell_type": "code",
      "source": [
        "drive.mount('/content/drive')"
      ],
      "metadata": {
        "colab": {
          "base_uri": "https://localhost:8080/"
        },
        "id": "dtPReWB4WIC7",
        "outputId": "f5c34bd5-d176-4c68-cef0-6f2d24dcf9a7"
      },
      "execution_count": null,
      "outputs": [
        {
          "output_type": "stream",
          "name": "stdout",
          "text": [
            "Drive already mounted at /content/drive; to attempt to forcibly remount, call drive.mount(\"/content/drive\", force_remount=True).\n"
          ]
        }
      ]
    },
    {
      "cell_type": "code",
      "source": [
        "# Step 2: Define paths for the user-uploaded image and where to save the final image\n",
        "user_image_path = '/content/drive/MyDrive/ARISTINO/2008/IMG_5204.jpg'  # Update with the correct path\n",
        "frame_path = '/content/Frame.png'  # Path to your frame image\n",
        "\n",
        "# Open frame and user image\n",
        "frame = Image.open(frame_path).convert('RGBA')\n",
        "user_image = Image.open(user_image_path).convert('RGBA')\n",
        "\n",
        "# Get background color from the outermost pixels\n",
        "def get_background_color(image):\n",
        "    pixels = image.load()\n",
        "    width, height = image.size\n",
        "\n",
        "    # Collect edge pixels\n",
        "    edge_pixels = []\n",
        "    # Top edge\n",
        "    for x in range(width):\n",
        "        edge_pixels.append(pixels[x, 0])\n",
        "    # Bottom edge\n",
        "    for x in range(width):\n",
        "        edge_pixels.append(pixels[x, height - 1])\n",
        "    # Left edge\n",
        "    for y in range(height):\n",
        "        edge_pixels.append(pixels[0, y])\n",
        "    # Right edge\n",
        "    for y in range(height):\n",
        "        edge_pixels.append(pixels[width - 1, y])\n",
        "\n",
        "    # Count occurrences of each color\n",
        "    color_count = {}\n",
        "    for color in edge_pixels:\n",
        "        if color in color_count:\n",
        "            color_count[color] += 1\n",
        "        else:\n",
        "            color_count[color] = 1\n",
        "\n",
        "    # Find the most common color\n",
        "    return max(color_count, key=color_count.get)\n",
        "\n",
        "# Retrieve the background color\n",
        "background_color = get_background_color(user_image)\n",
        "\n",
        "# Retrieve the background color\n",
        "background_color = get_background_color(user_image)\n",
        "\n",
        "# Resize user image to 75% of the frame size\n",
        "frame_width, frame_height = frame.size\n",
        "new_width = int(frame_width * 0.65)\n",
        "new_height = int(frame_height * 0.65)\n",
        "user_image = user_image.resize((new_width, new_height))\n",
        "\n",
        "# Create a new image to combine the frame and user image\n",
        "combined_width = max(frame_width, new_width)\n",
        "combined_height = max(frame_height, new_height)\n",
        "combined_image = Image.new('RGBA', (frame_width, frame_height), background_color)\n",
        "\n",
        "# Adjust the image position slightly up\n",
        "vertical_offset = -40  # Adjust this value to move the image up or down\n",
        "user_image_position = ((frame_width - new_width) // 2, (frame_height - new_height) // 2 + vertical_offset)\n",
        "combined_image.paste(user_image, user_image_position, user_image.convert('RGBA'))\n",
        "\n",
        "# Paste the frame on top of the user image\n",
        "combined_image.paste(frame, (0, 0), frame)\n",
        "\n",
        "# Create a drawing context\n",
        "draw = ImageDraw.Draw(combined_image)"
      ],
      "metadata": {
        "id": "KZRWFkeaMd4x"
      },
      "execution_count": 170,
      "outputs": []
    },
    {
      "cell_type": "code",
      "source": [
        "text = \"AKKR0309\"  # Replace with user input text\n",
        "text_box_color = '#23110B'\n",
        "text_box_border_radius = 44\n",
        "# Load a font\n",
        "font_path = \"/content/barlow.ttf\"\n",
        "font_size = 44  # Set a desired font size\n",
        "font = ImageFont.truetype(font_path, font_size)\n",
        "text_width, text_height = draw.textsize(text, font=font)\n",
        "\n",
        "# Calculate text box size\n",
        "text_box_width = text_width + 60\n",
        "text_box_height = text_height + 40\n",
        "\n",
        "# Fixed position for the text box\n",
        "text_box_x = (frame_width - text_box_width) // 2\n",
        "text_box_y = frame_height - text_box_height - 120  # Position text box 20px from the bottom\n",
        "\n",
        "\n",
        "# Add the text centered within the box\n",
        "text_x = text_box_x + (text_box_width - text_width) // 2\n",
        "text_y = text_box_y + (text_box_height - text_height) // 2 - 7\n",
        "\n",
        "# Draw the main body of the rectangle (without corners)\n",
        "draw.rectangle([text_box_x + text_box_border_radius, text_box_y, text_box_x + text_box_width - text_box_border_radius, text_box_y + text_box_height], fill=text_box_color)\n",
        "\n",
        "# Draw the rounded corners (left and right sides)\n",
        "draw.pieslice([text_box_x, text_box_y, text_box_x + text_box_border_radius * 2, text_box_y + text_box_height], 90, 270, fill=text_box_color)  # Left side\n",
        "draw.pieslice([text_box_x + text_box_width - text_box_border_radius * 2, text_box_y, text_box_x + text_box_width, text_box_y + text_box_height], 270, 90, fill=text_box_color)  # Right side\n",
        "\n",
        "# Add the text centered within the rounded rectangle\n",
        "draw.text((text_x, text_y), text, fill='white', font=font)"
      ],
      "metadata": {
        "colab": {
          "base_uri": "https://localhost:8080/"
        },
        "id": "qZsnPppdWA8T",
        "outputId": "5165127c-1915-442b-88ad-bda8611e8e2a"
      },
      "execution_count": 171,
      "outputs": [
        {
          "output_type": "stream",
          "name": "stderr",
          "text": [
            "<ipython-input-171-bf303695c4d8>:8: DeprecationWarning: textsize is deprecated and will be removed in Pillow 10 (2023-07-01). Use textbbox or textlength instead.\n",
            "  text_width, text_height = draw.textsize(text, font=font)\n"
          ]
        }
      ]
    },
    {
      "cell_type": "code",
      "source": [
        "# Save the final image\n",
        "combined_image.save('/content/final/anh_phu_30.png')"
      ],
      "metadata": {
        "id": "q538F5eQjIfC"
      },
      "execution_count": 172,
      "outputs": []
    },
    {
      "cell_type": "code",
      "source": [
        "import os\n",
        "import zipfile\n",
        "from google.colab import files\n",
        "\n",
        "# Define the folder to zip and the output zip file name\n",
        "folder_to_zip = '/content/final'\n",
        "zip_file_name = '/content/2008.zip'\n",
        "\n",
        "# Function to zip a folder\n",
        "def zip_folder(folder_path, output_zip):\n",
        "    with zipfile.ZipFile(output_zip, 'w', zipfile.ZIP_DEFLATED) as zipf:\n",
        "        for root, dirs, files in os.walk(folder_path):\n",
        "            for file in files:\n",
        "                file_path = os.path.join(root, file)\n",
        "                # Write the file to the zip file\n",
        "                zipf.write(file_path, os.path.relpath(file_path, folder_path))\n",
        "\n",
        "# Zip the folder\n",
        "zip_folder(folder_to_zip, zip_file_name)\n",
        "\n",
        "# Download the zip file\n",
        "files.download(zip_file_name)\n"
      ],
      "metadata": {
        "colab": {
          "base_uri": "https://localhost:8080/",
          "height": 34
        },
        "id": "dD4Zyz9yKRbA",
        "outputId": "d552bc8b-fdcf-4046-b16d-5f9b8ba43aeb"
      },
      "execution_count": 176,
      "outputs": [
        {
          "output_type": "display_data",
          "data": {
            "text/plain": [
              "<IPython.core.display.Javascript object>"
            ],
            "application/javascript": [
              "\n",
              "    async function download(id, filename, size) {\n",
              "      if (!google.colab.kernel.accessAllowed) {\n",
              "        return;\n",
              "      }\n",
              "      const div = document.createElement('div');\n",
              "      const label = document.createElement('label');\n",
              "      label.textContent = `Downloading \"${filename}\": `;\n",
              "      div.appendChild(label);\n",
              "      const progress = document.createElement('progress');\n",
              "      progress.max = size;\n",
              "      div.appendChild(progress);\n",
              "      document.body.appendChild(div);\n",
              "\n",
              "      const buffers = [];\n",
              "      let downloaded = 0;\n",
              "\n",
              "      const channel = await google.colab.kernel.comms.open(id);\n",
              "      // Send a message to notify the kernel that we're ready.\n",
              "      channel.send({})\n",
              "\n",
              "      for await (const message of channel.messages) {\n",
              "        // Send a message to notify the kernel that we're ready.\n",
              "        channel.send({})\n",
              "        if (message.buffers) {\n",
              "          for (const buffer of message.buffers) {\n",
              "            buffers.push(buffer);\n",
              "            downloaded += buffer.byteLength;\n",
              "            progress.value = downloaded;\n",
              "          }\n",
              "        }\n",
              "      }\n",
              "      const blob = new Blob(buffers, {type: 'application/binary'});\n",
              "      const a = document.createElement('a');\n",
              "      a.href = window.URL.createObjectURL(blob);\n",
              "      a.download = filename;\n",
              "      div.appendChild(a);\n",
              "      a.click();\n",
              "      div.remove();\n",
              "    }\n",
              "  "
            ]
          },
          "metadata": {}
        },
        {
          "output_type": "display_data",
          "data": {
            "text/plain": [
              "<IPython.core.display.Javascript object>"
            ],
            "application/javascript": [
              "download(\"download_6ad2c39e-e8ca-43c5-9515-f3c272f0aeec\", \"2008.zip\", 40540861)"
            ]
          },
          "metadata": {}
        }
      ]
    }
  ]
}